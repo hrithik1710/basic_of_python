{
 "cells": [
  {
   "cell_type": "code",
   "execution_count": 6,
   "metadata": {},
   "outputs": [
    {
     "name": "stdout",
     "output_type": "stream",
     "text": [
      "Hrithik Surjan\n"
     ]
    }
   ],
   "source": [
    "#this are the varibles and the charcter written inside the double quotes are string \n",
    "first_name=\"Hrithik\"\n",
    "last_name=\" Surjan\"\n",
    "# addition opeartion\n",
    "full_name=first_name + last_name\n",
    "print(full_name)\n"
   ]
  },
  {
   "cell_type": "code",
   "execution_count": 9,
   "metadata": {},
   "outputs": [
    {
     "name": "stdout",
     "output_type": "stream",
     "text": [
      "abc1\n"
     ]
    }
   ],
   "source": [
    "#type error\n",
    "a=\"abc\"\n",
    "num=1\n",
    "#sum=a+num\n",
    "#print(sum)# error\n",
    "\n",
    "\n",
    "#this can resolve by using str() type before the integer number\n",
    "\n",
    "sum=a+str(num)\n",
    "print(sum)\n",
    "\n"
   ]
  },
  {
   "cell_type": "code",
   "execution_count": 12,
   "metadata": {},
   "outputs": [
    {
     "name": "stdout",
     "output_type": "stream",
     "text": [
      "Hrithik Hrithik Hrithik \n"
     ]
    }
   ],
   "source": [
    "#mulptiplication\n",
    "first_name=\"Hrithik \"\n",
    "print(first_name*3)"
   ]
  },
  {
   "cell_type": "code",
   "execution_count": 14,
   "metadata": {},
   "outputs": [
    {
     "name": "stdout",
     "output_type": "stream",
     "text": [
      "1st number1\n",
      "2nd number2\n",
      "3\n"
     ]
    }
   ],
   "source": [
    "#input always take as a string\n",
    "num1=input(\"1st number\")\n",
    "num2=input(\"2nd number\")\n",
    "#sum=num1+num2\n",
    "sum=int(num1)+int(num2)\n",
    "print(sum)\n",
    "#result num1=1,num2=2 than 12\n"
   ]
  },
  {
   "cell_type": "code",
   "execution_count": 15,
   "metadata": {},
   "outputs": [
    {
     "name": "stdout",
     "output_type": "stream",
     "text": [
      "enter your name and ageHrithik,21\n",
      "name:  Hrithik\n",
      "age:  21\n"
     ]
    }
   ],
   "source": [
    "# split function:---- multiple input\n",
    "name,age=input(\"enter your name and age\").split(\",\")\n",
    "print(\"name: \" ,name)\n",
    "print(\"age: \" ,age)"
   ]
  },
  {
   "cell_type": "code",
   "execution_count": 17,
   "metadata": {},
   "outputs": [
    {
     "name": "stdout",
     "output_type": "stream",
     "text": [
      "Hello your name is Hrithik and your age is 22 :\n"
     ]
    }
   ],
   "source": [
    "#string formating\n",
    "name=\"Hrithik\"\n",
    "age=21\n",
    "#print(\"Hello your name is {} and your age is {} :\".format(name,age))  #{} place holder\n",
    "print(\"Hello your name is {} and your age is {} :\".format(name,age+1)) #addition in age"
   ]
  },
  {
   "cell_type": "code",
   "execution_count": 23,
   "metadata": {},
   "outputs": [
    {
     "name": "stdout",
     "output_type": "stream",
     "text": [
      "enter the 3 number: 1,4,4\n",
      "The average of 3 number is 3.0 : \n"
     ]
    }
   ],
   "source": [
    "#average of 3 number\n",
    "num1,num2,num3=input(\"enter the 3 number: \").split(\",\")\n",
    "average=((int(num1)+int(num2)+int(num3))/3)\n",
    "print(\"The average of 3 number is {} : \".format(average))\n"
   ]
  },
  {
   "cell_type": "code",
   "execution_count": 6,
   "metadata": {},
   "outputs": [
    {
     "name": "stdout",
     "output_type": "stream",
     "text": [
      "p\n",
      "phyt\n",
      "phython\n",
      "hython\n",
      "n\n",
      "nohtyhp\n",
      "pyhn\n"
     ]
    }
   ],
   "source": [
    "#string indexing\n",
    "language=\"phython\"\n",
    "print(language[0]) #indexing\n",
    "print(language[0:4])#4-1  , slicing\n",
    "print(language[0:])\n",
    "print(language[1:])\n",
    "print(language[-1])\n",
    "print(language[::-1])\n",
    "print(language[0::2]) #step argument"
   ]
  },
  {
   "cell_type": "code",
   "execution_count": 9,
   "metadata": {},
   "outputs": [
    {
     "name": "stdout",
     "output_type": "stream",
     "text": [
      "enter your name : hrithik\n",
      "kihtirh\n",
      "Reverse of your name is : kihtirh\n"
     ]
    }
   ],
   "source": [
    "name=input(\"enter your name : \")\n",
    "print(name[::-1])\n",
    "print(\"Reverse of your name is : {}\".format(name[::-1]))"
   ]
  },
  {
   "cell_type": "code",
   "execution_count": 14,
   "metadata": {},
   "outputs": [
    {
     "name": "stdout",
     "output_type": "stream",
     "text": [
      "8\n",
      "the length of your name is : 8\n",
      "the upper case of your name is : ABHISHEK\n",
      "the lower case of your name is : abhishek\n",
      "Abhishek\n",
      "1\n"
     ]
    }
   ],
   "source": [
    "name=\"abhishek\"\n",
    "print(len(name))\n",
    "print(\"the length of your name is : {}\".format(len(name)))\n",
    "print(\"the upper case of your name is : {}\".format(name.upper()))\n",
    "print(\"the lower case of your name is : {}\".format(name.lower()))\n",
    "print(name.title())\n",
    "print(name.count(\"a\"))"
   ]
  },
  {
   "cell_type": "code",
   "execution_count": 18,
   "metadata": {},
   "outputs": [
    {
     "name": "stdout",
     "output_type": "stream",
     "text": [
      "enter your name : HRITIK\n",
      "2\n"
     ]
    }
   ],
   "source": [
    "name=input(\"enter your name : \")\n",
    "string=name.lower()\n",
    "print(string.count(\"i\"))"
   ]
  },
  {
   "cell_type": "code",
   "execution_count": 22,
   "metadata": {},
   "outputs": [
    {
     "name": "stdout",
     "output_type": "stream",
     "text": [
      "enter the name and character to be count :HRITIK,i\n",
      "Length of your name is : 6\n",
      "2\n"
     ]
    }
   ],
   "source": [
    "name,char=input(\"enter the name and character to be count :\").split(\",\")\n",
    "print(\"Length of your name is : {}\".format(len(name)))\n",
    "#print(\"this character is present this much time {} : \".format(name.count(char)))\n",
    "print(name.lower().count(char))"
   ]
  },
  {
   "cell_type": "code",
   "execution_count": 5,
   "metadata": {},
   "outputs": [
    {
     "name": "stdout",
     "output_type": "stream",
     "text": [
      "*****  harsh  *****\n",
      "  harsh*****\n",
      "*****harsh  \n",
      "harsh\n"
     ]
    }
   ],
   "source": [
    "# strip method\n",
    "name=\"  harsh  \"\n",
    "print(\"*****\"+name+\"*****\")\n",
    "print(name.rstrip()+\"*****\")\n",
    "print(\"*****\"+name.lstrip())\n",
    "print(name.strip()) # both side removed"
   ]
  },
  {
   "cell_type": "code",
   "execution_count": 13,
   "metadata": {},
   "outputs": [
    {
     "name": "stdout",
     "output_type": "stream",
     "text": [
      "Har  sh\n",
      "Harsh\n",
      "I am playing and I am a player \n",
      "I was playing and I was a player \n",
      "I was playing and I am a player \n"
     ]
    }
   ],
   "source": [
    "#replaced method\n",
    "name=\"Har  sh\"\n",
    "print(name)\n",
    "print(name.replace(\" \",\"\"))\n",
    "string=\"I am playing and I am a player \"\n",
    "print(string)\n",
    "print(string.replace(\"am\",\"was\")) # here only one \n",
    "print(string.replace(\"am\",\"was\",1))"
   ]
  },
  {
   "cell_type": "code",
   "execution_count": 14,
   "metadata": {},
   "outputs": [
    {
     "name": "stdout",
     "output_type": "stream",
     "text": [
      "I am playing and I am a player \n",
      "2\n",
      "19\n"
     ]
    }
   ],
   "source": [
    "#find method\n",
    "string=\"I am playing and I am a player \"\n",
    "print(string)\n",
    "print(string.find(\"am\"))\n",
    "print(string.find(\"am\",3))"
   ]
  },
  {
   "cell_type": "code",
   "execution_count": 17,
   "metadata": {},
   "outputs": [
    {
     "name": "stdout",
     "output_type": "stream",
     "text": [
      "4\n",
      "25\n"
     ]
    }
   ],
   "source": [
    "string=\"she is beautiful and she is a good dancer\"\n",
    "pos_1=string.find(\"is\")\n",
    "print(pos_1)\n",
    "pos_2=string.find(\"is\",pos_1+1)\n",
    "print(pos_2)"
   ]
  },
  {
   "cell_type": "code",
   "execution_count": 19,
   "metadata": {},
   "outputs": [
    {
     "name": "stdout",
     "output_type": "stream",
     "text": [
      "enter your name :akil\n",
      "****akil****\n"
     ]
    }
   ],
   "source": [
    "#name=\"Akil\"\n",
    "#print(name.center(8,\"*\"))\n",
    "name=input(\"enter your name :\")\n",
    "length=len(name)\n",
    "print(name.center(length+8,\"*\"))"
   ]
  },
  {
   "cell_type": "markdown",
   "metadata": {},
   "source": []
  }
 ],
 "metadata": {
  "kernelspec": {
   "display_name": "Python 3",
   "language": "python",
   "name": "python3"
  },
  "language_info": {
   "codemirror_mode": {
    "name": "ipython",
    "version": 3
   },
   "file_extension": ".py",
   "mimetype": "text/x-python",
   "name": "python",
   "nbconvert_exporter": "python",
   "pygments_lexer": "ipython3",
   "version": "3.8.3"
  }
 },
 "nbformat": 4,
 "nbformat_minor": 4
}
