{
 "cells": [
  {
   "cell_type": "code",
   "execution_count": 6,
   "metadata": {},
   "outputs": [
    {
     "name": "stdout",
     "output_type": "stream",
     "text": [
      "Enter the  number between 1 to 100 :- 22\n",
      "too low \n",
      "guess again 88\n",
      "too high \n",
      "guess again 47\n",
      "you win\n",
      "you gussed the number in 3times\n"
     ]
    }
   ],
   "source": [
    "winning_number=47\n",
    "guess=1\n",
    "number=int(input(\"Enter the  number between 1 to 100 :- \"))\n",
    "gameover=False\n",
    "while not gameover:\n",
    "    if winning_number==number:\n",
    "        print(\"you win\")\n",
    "        print(\"you gussed the number in \"+str(guess)+\"times\")\n",
    "        gameover=True\n",
    "    else:\n",
    "        if winning_number>number:\n",
    "            print(\"too low \")\n",
    "            guess+=1\n",
    "            number=int(input(\"guess again \"))\n",
    "        else: \n",
    "            print(\"too high \")\n",
    "            guess+=1\n",
    "            number=int(input(\"guess again \"))"
   ]
  },
  {
   "cell_type": "code",
   "execution_count": null,
   "metadata": {},
   "outputs": [],
   "source": []
  }
 ],
 "metadata": {
  "kernelspec": {
   "display_name": "Python 3",
   "language": "python",
   "name": "python3"
  }
 },
 "nbformat": 4,
 "nbformat_minor": 4
}
