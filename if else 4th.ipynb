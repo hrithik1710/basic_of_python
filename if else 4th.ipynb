{
 "cells": [
  {
   "cell_type": "code",
   "execution_count": 4,
   "metadata": {},
   "outputs": [
    {
     "name": "stdout",
     "output_type": "stream",
     "text": [
      "enter your age: 21\n",
      "you can play\n"
     ]
    }
   ],
   "source": [
    "#if statement\n",
    "age=int(input(\"enter your age: \"))\n",
    "if age>=14:\n",
    "    print(\"you can play\")"
   ]
  },
  {
   "cell_type": "code",
   "execution_count": 6,
   "metadata": {},
   "outputs": [],
   "source": [
    "#pass statment used remove error\n",
    "age=18\n",
    "if age<=18:\n",
    "    pass"
   ]
  },
  {
   "cell_type": "code",
   "execution_count": 7,
   "metadata": {},
   "outputs": [
    {
     "name": "stdout",
     "output_type": "stream",
     "text": [
      "enter your age: 12\n",
      "you can't play \n"
     ]
    }
   ],
   "source": [
    "age=int(input(\"enter your age: \"))\n",
    "if age>=14:\n",
    "    print(\"you can play\")\n",
    "else:\n",
    "    print(\"you can't play \")"
   ]
  },
  {
   "cell_type": "code",
   "execution_count": 10,
   "metadata": {},
   "outputs": [
    {
     "name": "stdout",
     "output_type": "stream",
     "text": [
      "enter the number between 1 to 100 : 75\n",
      "too high\n"
     ]
    }
   ],
   "source": [
    "winning_number=21\n",
    "guess_number=int(input(\"enter the number between 1 to 100 : \"))\n",
    "if winning_number==guess_number:\n",
    "    print(\"you win\")\n",
    "else:\n",
    "    if winning_number<guess_number:\n",
    "        print(\"too high\")\n",
    "    else:\n",
    "        print(\"too low\")"
   ]
  },
  {
   "cell_type": "code",
   "execution_count": 11,
   "metadata": {},
   "outputs": [
    {
     "name": "stdout",
     "output_type": "stream",
     "text": [
      "condition true\n"
     ]
    }
   ],
   "source": [
    "age=21\n",
    "name=\"harsh\"\n",
    "if name==\"harsh\" and age==21: #both condition\n",
    "    print(\"condition true\")\n",
    "else:\n",
    "    print(\"condition false\")\n",
    "    "
   ]
  },
  {
   "cell_type": "code",
   "execution_count": 12,
   "metadata": {},
   "outputs": [
    {
     "name": "stdout",
     "output_type": "stream",
     "text": [
      "condition true\n"
     ]
    }
   ],
   "source": [
    "age=22\n",
    "name=\"harsh\"\n",
    "if name==\"harsh\" or age==21: #one condition\n",
    "    print(\"condition true\")\n",
    "else:\n",
    "    print(\"condition false\")\n",
    "    "
   ]
  },
  {
   "cell_type": "code",
   "execution_count": 14,
   "metadata": {},
   "outputs": [
    {
     "name": "stdout",
     "output_type": "stream",
     "text": [
      "enter name and age anshul,21\n",
      "you can watch movie\n"
     ]
    }
   ],
   "source": [
    "name,age=input(\"enter name and age \").split(\",\")\n",
    "if name[0]==\"a\" or name[0]==\"A\" and age <=10:\n",
    "    print(\"you can watch movie\")\n",
    "else:\n",
    "    print(\"you cannot\")"
   ]
  },
  {
   "cell_type": "code",
   "execution_count": 20,
   "metadata": {},
   "outputs": [
    {
     "name": "stdout",
     "output_type": "stream",
     "text": [
      "enter you age :55\n",
      "free\n"
     ]
    }
   ],
   "source": [
    "age=int(input(\"enter you age :\"))\n",
    "if 0<age>=3:\n",
    "    print(\"free\")\n",
    "elif 3<age>=10:\n",
    "    print(\"price=150\")\n",
    "elif 10<age<60:\n",
    "    print(\"price=250\")\n",
    "else:\n",
    "    print(\"price=200\")"
   ]
  },
  {
   "cell_type": "code",
   "execution_count": 21,
   "metadata": {},
   "outputs": [
    {
     "name": "stdout",
     "output_type": "stream",
     "text": [
      " a is present\n"
     ]
    }
   ],
   "source": [
    "name=\"harsh\"\n",
    "if \"a\" in name:\n",
    "    print(\" a is present\")\n",
    "else:\n",
    "    print(\"a is not present\")"
   ]
  },
  {
   "cell_type": "code",
   "execution_count": 2,
   "metadata": {},
   "outputs": [
    {
     "name": "stdout",
     "output_type": "stream",
     "text": [
      "empty\n",
      "not empty\n"
     ]
    }
   ],
   "source": [
    "#check sring is empty or not\n",
    "name=\"\"\n",
    "if name:\n",
    "    print(\"not empty\")\n",
    "else:\n",
    "    print(\"empty\")\n",
    "    \n",
    "name=\"ansh\"\n",
    "if name:\n",
    "    print(\"not empty\")\n",
    "else:\n",
    "    print(\"empty\")"
   ]
  },
  {
   "cell_type": "code",
   "execution_count": null,
   "metadata": {},
   "outputs": [],
   "source": []
  }
 ],
 "metadata": {
  "kernelspec": {
   "display_name": "Python 3",
   "language": "python",
   "name": "python3"
  },
  "language_info": {
   "codemirror_mode": {
    "name": "ipython",
    "version": 3
   },
   "file_extension": ".py",
   "mimetype": "text/x-python",
   "name": "python",
   "nbconvert_exporter": "python",
   "pygments_lexer": "ipython3",
   "version": "3.8.3"
  }
 },
 "nbformat": 4,
 "nbformat_minor": 4
}
