{
 "cells": [
  {
   "cell_type": "code",
   "execution_count": 3,
   "metadata": {},
   "outputs": [
    {
     "name": "stdout",
     "output_type": "stream",
     "text": [
      "{1, 2, 3}\n",
      "<class 'set'>\n",
      "{1, 2, 3, 4}\n",
      "{1, 2, 4}\n",
      "set()\n"
     ]
    }
   ],
   "source": [
    "#set is unordered collection of data\n",
    "#cant store list,tuple,dict.\n",
    "#syntax-----a={data}\n",
    "s={1,2,3}\n",
    "print(s)\n",
    "print(type(s))\n",
    "#add data\n",
    "s.add(4)\n",
    "print(s)\n",
    "#remove method\n",
    "s.remove(3)\n",
    "print(s)\n",
    "#clear method to clear the set\n",
    "s.clear()\n",
    "print(s)"
   ]
  },
  {
   "cell_type": "code",
   "execution_count": 7,
   "metadata": {},
   "outputs": [
    {
     "name": "stdout",
     "output_type": "stream",
     "text": [
      "{1, 2, 3, 4, 5, 6, 7, 8, 9}\n",
      "[1, 2, 3, 4, 5, 6]\n"
     ]
    }
   ],
   "source": [
    "#duplicates can be removes in the set and sorted\n",
    "s={1,2,3,4,2,3,5,7,6,4,8,2,9,1,2}\n",
    "print(s)\n",
    "\n",
    "#program to remove duplicates from the list\n",
    "l=[1,2,3,2,4,1,6,5]\n",
    "s=set(l)\n",
    "print(list(s))"
   ]
  },
  {
   "cell_type": "code",
   "execution_count": 11,
   "metadata": {},
   "outputs": [
    {
     "name": "stdout",
     "output_type": "stream",
     "text": [
      "{'c', 'd', 'b', 'a', 'e'}\n",
      "present\n",
      "c\n",
      "d\n",
      "b\n",
      "a\n",
      "e\n"
     ]
    }
   ],
   "source": [
    "#in keyword in the set\n",
    "s={'a','b','c','d','e'}\n",
    "print(s)\n",
    "if 'a' in s:\n",
    "    print('present')\n",
    "else:\n",
    "    print(\"not\")\n",
    "    \n",
    "# for loop\n",
    "for i in s:\n",
    "    print(i)"
   ]
  },
  {
   "cell_type": "code",
   "execution_count": 13,
   "metadata": {},
   "outputs": [
    {
     "name": "stdout",
     "output_type": "stream",
     "text": [
      "{1, 2, 3, 4, 5, 6}\n",
      "{3, 4}\n"
     ]
    }
   ],
   "source": [
    "# want to check union and interection than\n",
    "s1={1,2,3,4}\n",
    "s2={3,4,5,6}\n",
    "#union\n",
    "print(s1|s2)\n",
    "#intersection\n",
    "print(s1&s2)"
   ]
  }
 ],
 "metadata": {
  "kernelspec": {
   "display_name": "Python 3",
   "language": "python",
   "name": "python3"
  },
  "language_info": {
   "codemirror_mode": {
    "name": "ipython",
    "version": 3
   },
   "file_extension": ".py",
   "mimetype": "text/x-python",
   "name": "python",
   "nbconvert_exporter": "python",
   "pygments_lexer": "ipython3",
   "version": "3.8.3"
  }
 },
 "nbformat": 4,
 "nbformat_minor": 4
}
