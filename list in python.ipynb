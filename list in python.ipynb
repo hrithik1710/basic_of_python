{
 "cells": [
  {
   "cell_type": "code",
   "execution_count": 1,
   "metadata": {},
   "outputs": [
    {
     "name": "stdout",
     "output_type": "stream",
     "text": [
      "[1, 2, 3, 4, 5]\n",
      "<class 'list'>\n"
     ]
    }
   ],
   "source": [
    "#list is a data structure\n",
    "#we can store anything in it int float string\n",
    "#they are mutable\n",
    "#l=[]    syntax\n",
    "\n",
    "l=[1,2,3,4,5]\n",
    "print(l)\n",
    "print(type(l))"
   ]
  },
  {
   "cell_type": "code",
   "execution_count": 8,
   "metadata": {},
   "outputs": [
    {
     "name": "stdout",
     "output_type": "stream",
     "text": [
      "[1, 2, 3.3, 4, 5.5, 'name']\n",
      "<class 'list'>\n",
      "1\n",
      "1\n",
      "2\n",
      "3.3\n",
      "4\n",
      "5.5\n",
      "name\n"
     ]
    }
   ],
   "source": [
    "l=[1,2,3.3,4,5.5,\"name\"]\n",
    "print(l)\n",
    "print(type(l))\n",
    "print(l[0])\n",
    "for i in l:\n",
    "    print(i)"
   ]
  },
  {
   "cell_type": "code",
   "execution_count": 14,
   "metadata": {},
   "outputs": [
    {
     "name": "stdout",
     "output_type": "stream",
     "text": [
      "1\n",
      "[1, 2, 3.3, 4]\n",
      "['name', 5.5, 4, 3.3, 2, 1]\n"
     ]
    }
   ],
   "source": [
    "#index and slicing\n",
    "l=[1,2,3.3,4,5.5,\"name\"]\n",
    "print(l[0])\n",
    "print(l[0:4])\n",
    "print(l[::-1])"
   ]
  },
  {
   "cell_type": "code",
   "execution_count": 17,
   "metadata": {},
   "outputs": [
    {
     "name": "stdout",
     "output_type": "stream",
     "text": [
      "[1, 2, 3, 4, 5.5]\n",
      "[1, 2, 3, 't', 'w', 'o']\n"
     ]
    }
   ],
   "source": [
    "#changing variable of list\n",
    "l=[1,2,3.3,4,5.5]\n",
    "l[2]=3\n",
    "print(l)\n",
    "s=[1,2,3,4,5,6]\n",
    "s[3:]=\"two\"\n",
    "print(s)"
   ]
  },
  {
   "cell_type": "code",
   "execution_count": 1,
   "metadata": {},
   "outputs": [
    {
     "name": "stdout",
     "output_type": "stream",
     "text": [
      "['a', 'b', 'c', 'd', 'e']\n",
      "['a', 'b', 'c', 'd', 'e', 'f']\n"
     ]
    }
   ],
   "source": [
    "# methods in list\n",
    "l=['a','b','c','d','e']\n",
    "print(l)\n",
    "#add f to it at last \n",
    "l.append('f')\n",
    "print(l)"
   ]
  },
  {
   "cell_type": "code",
   "execution_count": 3,
   "metadata": {},
   "outputs": [
    {
     "name": "stdout",
     "output_type": "stream",
     "text": [
      "[1, 2, 3, 4, 5]\n"
     ]
    }
   ],
   "source": [
    "l=[]\n",
    "l.append(1)\n",
    "l.append(2)\n",
    "l.append(3)\n",
    "l.append(4)\n",
    "l.append(5)\n",
    "print(l)"
   ]
  },
  {
   "cell_type": "code",
   "execution_count": 4,
   "metadata": {},
   "outputs": [
    {
     "name": "stdout",
     "output_type": "stream",
     "text": [
      "['m', 'a', 'n', 'o']\n",
      "['m', 'a', 'n', 'g', 'o']\n"
     ]
    }
   ],
   "source": [
    "#insert method list.insert[position,item]\n",
    "l=['m','a','n','o']\n",
    "print(l)\n",
    "l.insert(3,'g')\n",
    "print(l)"
   ]
  },
  {
   "cell_type": "code",
   "execution_count": 5,
   "metadata": {},
   "outputs": [
    {
     "name": "stdout",
     "output_type": "stream",
     "text": [
      "[1, 2]\n",
      "[1, 2, 'a', 'b']\n"
     ]
    }
   ],
   "source": [
    "# we can add two list ----- join or concinate\n",
    "f1=[1,2]\n",
    "f2=['a','b']\n",
    "print(f1)\n",
    "print(f1+f2)"
   ]
  },
  {
   "cell_type": "code",
   "execution_count": 6,
   "metadata": {},
   "outputs": [
    {
     "name": "stdout",
     "output_type": "stream",
     "text": [
      "[1, 2, 'a', 'b']\n",
      "['a', 'b']\n"
     ]
    }
   ],
   "source": [
    "f1=[1,2]\n",
    "f2=['a','b']\n",
    "f1.extend(f2)\n",
    "print(f1)\n",
    "print(f2)"
   ]
  },
  {
   "cell_type": "code",
   "execution_count": 10,
   "metadata": {},
   "outputs": [
    {
     "name": "stdout",
     "output_type": "stream",
     "text": [
      "['m', 'a', 'n', 'g', 'o']\n",
      "o\n",
      "['m', 'a', 'n', 'g']\n",
      "n\n",
      "['m', 'a', 'g']\n"
     ]
    }
   ],
   "source": [
    "# method to delete daya from list\n",
    "#list.pop(index no.)----pop()than last element\n",
    "f1=['m','a','n','o']\n",
    "f1.insert(3,'g')\n",
    "print(f1)\n",
    "print(f1.pop())  # last one\n",
    "print(f1)\n",
    "print(f1.pop(2))#2nd index one\n",
    "print(f1)\n"
   ]
  },
  {
   "cell_type": "code",
   "execution_count": 16,
   "metadata": {},
   "outputs": [
    {
     "name": "stdout",
     "output_type": "stream",
     "text": [
      "['m', 'a', 'n', 'o']\n"
     ]
    }
   ],
   "source": [
    "# remove method ---- if we dont know the position than we can use it\n",
    "f1=['m','a','n','g','o']\n",
    "f1.remove('g')\n",
    "print(f1)"
   ]
  },
  {
   "cell_type": "code",
   "execution_count": 18,
   "metadata": {},
   "outputs": [
    {
     "name": "stdout",
     "output_type": "stream",
     "text": [
      "present\n"
     ]
    }
   ],
   "source": [
    "# in keyword\n",
    "f1=['m','a','n','o']\n",
    "if 'o' in f1:\n",
    "    print(\"present\")\n",
    "else:\n",
    "    print(\"not present\")"
   ]
  },
  {
   "cell_type": "code",
   "execution_count": 24,
   "metadata": {},
   "outputs": [
    {
     "name": "stdout",
     "output_type": "stream",
     "text": [
      "2\n",
      "[1, 2, 3, 4, 5, 6, 7]\n",
      "[1, 2, 3, 5, 6]\n",
      "[2, 3, 6, 5, 1]\n",
      "[]\n",
      "copy of list l is  [1, 2, 3, 4, 5, 6, 7]\n"
     ]
    }
   ],
   "source": [
    "#more methods\n",
    "f=['a','b','c','d','a','c']\n",
    "l=[1,2,5,6,3,4,7]\n",
    "print(f.count('a'))  #count method to count\n",
    "l.sort()  #sorting method\n",
    "print(l)\n",
    "\n",
    "#if dont want to change the list but want to print sorted than sorted function\n",
    "n=[2,3,6,5,1]\n",
    "print(sorted(n))\n",
    "print(n)\n",
    "\n",
    "#want to clear than-- clear method\n",
    "n.clear()\n",
    "print(n)\n",
    "\n",
    "#copy method\n",
    "num=l.copy()\n",
    "print(\"copy of list l is \",num)"
   ]
  },
  {
   "cell_type": "code",
   "execution_count": 30,
   "metadata": {},
   "outputs": [
    {
     "name": "stdout",
     "output_type": "stream",
     "text": [
      "['harsh', '21']\n",
      "<class 'list'>\n",
      "harsh,21\n",
      "<class 'list'>\n"
     ]
    }
   ],
   "source": [
    "#split method -----string to list\n",
    "user='harsh 21'.split()\n",
    "print(user)\n",
    "print(type(user))\n",
    "\n",
    "#join method ---- lsit to string\n",
    "user=['harsh','21']\n",
    "print(\",\".join(user))\n",
    "print(type(user))"
   ]
  },
  {
   "cell_type": "code",
   "execution_count": 34,
   "metadata": {},
   "outputs": [
    {
     "name": "stdout",
     "output_type": "stream",
     "text": [
      "1\n",
      "2\n",
      "3\n",
      "4\n",
      "5\n"
     ]
    }
   ],
   "source": [
    "# for loop\n",
    "l=[1,2,3,4,5]\n",
    "for i in l:\n",
    "    print(i)\n",
    "    "
   ]
  },
  {
   "cell_type": "code",
   "execution_count": 43,
   "metadata": {},
   "outputs": [
    {
     "name": "stdout",
     "output_type": "stream",
     "text": [
      "6\n",
      "1\n",
      "2\n",
      "3\n",
      "4\n",
      "5\n",
      "6\n"
     ]
    }
   ],
   "source": [
    "# while loop\n",
    "l=[1,2,3,4,5,6]\n",
    "i=0\n",
    "print(len(l))\n",
    "while i<6:\n",
    "    print(l[i])\n",
    "    i=i+1"
   ]
  },
  {
   "cell_type": "code",
   "execution_count": 49,
   "metadata": {},
   "outputs": [
    {
     "name": "stdout",
     "output_type": "stream",
     "text": [
      "[[1, 2, 3], [4, 5, 6], [7, 8, 9]]\n",
      "<class 'list'>\n",
      "1\n",
      "2\n",
      "3\n",
      "4\n",
      "5\n",
      "6\n",
      "7\n",
      "8\n",
      "9\n"
     ]
    }
   ],
   "source": [
    "m=[[1,2,3],[4,5,6],[7,8,9]]\n",
    "print(m)\n",
    "print(type(m))\n",
    "for sublist in m:\n",
    "    for i in sublist:\n",
    "        print(i)"
   ]
  },
  {
   "cell_type": "code",
   "execution_count": 51,
   "metadata": {},
   "outputs": [
    {
     "name": "stdout",
     "output_type": "stream",
     "text": [
      "[1, 2, 3, 4, 5, 6, 7, 8, 9, 10]\n",
      "<class 'list'>\n"
     ]
    }
   ],
   "source": [
    "# we can create list with the range function\n",
    "f=list(range(1,11))\n",
    "print(f)\n",
    "print(type(l))"
   ]
  },
  {
   "cell_type": "code",
   "execution_count": 52,
   "metadata": {},
   "outputs": [
    {
     "name": "stdout",
     "output_type": "stream",
     "text": [
      "3\n"
     ]
    }
   ],
   "source": [
    "#to know the index of an item in list we use index method\n",
    "n=[1,2,3,4,5,6,7,8]\n",
    "print(n.index(4))"
   ]
  },
  {
   "cell_type": "code",
   "execution_count": 60,
   "metadata": {},
   "outputs": [
    {
     "name": "stdout",
     "output_type": "stream",
     "text": [
      "[1, 4, 9, 16, 25, 36, 49, 64, 81, 100]\n"
     ]
    }
   ],
   "source": [
    "# return square of the number\n",
    "def square(a):\n",
    "    l=[]\n",
    "    for i in a:\n",
    "        l.append(i**2)\n",
    "    return l\n",
    "#n=[1,2,3,4,5]\n",
    "#print(square(n))\n",
    "print(square(list(range(1,11))))"
   ]
  },
  {
   "cell_type": "code",
   "execution_count": 69,
   "metadata": {},
   "outputs": [
    {
     "name": "stdout",
     "output_type": "stream",
     "text": [
      "[5, 4, 3, 2, 1]\n",
      "[5, 4, 3, 2, 1]\n",
      "[5, 4, 3, 2, 1]\n"
     ]
    }
   ],
   "source": [
    "# reverse item \n",
    "def reverse_item(n):\n",
    "    reverse=n[::-1]\n",
    "    return reverse\n",
    "print(reverse_item([1,2,3,4,5]))\n",
    "\n",
    "\n",
    "#or\n",
    "def reverse_item(n):\n",
    "    n.reverse()\n",
    "    return n\n",
    "print(reverse_item([1,2,3,4,5]))\n",
    "\n",
    "\n",
    "#or\n",
    "def reverse_item(n):\n",
    "    l=[]\n",
    "    for i in range(len(n)):\n",
    "        popped=n.pop()\n",
    "        l.append(popped)\n",
    "    return l\n",
    "        \n",
    "print(reverse_item([1,2,3,4,5]))\n",
    "\n"
   ]
  },
  {
   "cell_type": "code",
   "execution_count": 70,
   "metadata": {},
   "outputs": [
    {
     "name": "stdout",
     "output_type": "stream",
     "text": [
      "['cba', 'zyx', 'xvu']\n"
     ]
    }
   ],
   "source": [
    "def word(n):\n",
    "    l=[]\n",
    "    for i in n:\n",
    "        l.append(i[::-1])\n",
    "    return l\n",
    "a=['abc','xyz','uvx']\n",
    "print(word(a))"
   ]
  },
  {
   "cell_type": "code",
   "execution_count": 71,
   "metadata": {},
   "outputs": [
    {
     "name": "stdout",
     "output_type": "stream",
     "text": [
      "[[2, 4, 6, 8, 10], [1, 3, 5, 7, 9]]\n"
     ]
    }
   ],
   "source": [
    "# even odd\n",
    "def odd_even(n):\n",
    "    even=[]\n",
    "    odd=[]\n",
    "    for i in n:\n",
    "        if i%2==0:\n",
    "            even.append(i)\n",
    "        else:\n",
    "            odd.append(i)\n",
    "    output=[even,odd]\n",
    "    return output\n",
    "print(odd_even([1,2,3,4,5,6,7,8,9,10]))"
   ]
  },
  {
   "cell_type": "code",
   "execution_count": 77,
   "metadata": {},
   "outputs": [
    {
     "name": "stdout",
     "output_type": "stream",
     "text": [
      "[1, 2, 5, 4]\n"
     ]
    }
   ],
   "source": [
    "# same in 2 list\n",
    "def same(n,m):\n",
    "    l=[]\n",
    "    for i in n:\n",
    "        if i in m:\n",
    "            l.append(i)\n",
    "    return l\n",
    "        \n",
    "l1=[1,2,5,6,4]\n",
    "l2=[1,2,3,4,5]\n",
    "print(same(l1,l2))"
   ]
  },
  {
   "cell_type": "code",
   "execution_count": 78,
   "metadata": {},
   "outputs": [
    {
     "name": "stdout",
     "output_type": "stream",
     "text": [
      "2\n",
      "80\n",
      "78\n"
     ]
    }
   ],
   "source": [
    "#program to print minimum and maximum and diufference of them\n",
    "l=[10,2,50,80]\n",
    "print(min(l))\n",
    "print(max(l))\n",
    "\n",
    "def difference(l):\n",
    "    return max(l)-min(l)\n",
    "print(difference(l))\n"
   ]
  },
  {
   "cell_type": "code",
   "execution_count": 79,
   "metadata": {},
   "outputs": [
    {
     "name": "stdout",
     "output_type": "stream",
     "text": [
      "2\n"
     ]
    }
   ],
   "source": [
    "def sublist(l):\n",
    "    count=0\n",
    "    for i in l:\n",
    "        if type(i)==list:\n",
    "            count=count+1\n",
    "    return count\n",
    "mixed=[1,2,3,[1,2],[3,4]]\n",
    "print(sublist(mixed))"
   ]
  },
  {
   "cell_type": "code",
   "execution_count": null,
   "metadata": {},
   "outputs": [],
   "source": []
  }
 ],
 "metadata": {
  "kernelspec": {
   "display_name": "Python 3",
   "language": "python",
   "name": "python3"
  },
  "language_info": {
   "codemirror_mode": {
    "name": "ipython",
    "version": 3
   },
   "file_extension": ".py",
   "mimetype": "text/x-python",
   "name": "python",
   "nbconvert_exporter": "python",
   "pygments_lexer": "ipython3",
   "version": "3.8.3"
  }
 },
 "nbformat": 4,
 "nbformat_minor": 4
}
