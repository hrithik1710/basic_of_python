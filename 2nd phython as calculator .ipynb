{
 "cells": [
  {
   "cell_type": "code",
   "execution_count": 1,
   "metadata": {},
   "outputs": [
    {
     "name": "stdout",
     "output_type": "stream",
     "text": [
      "5\n",
      "6\n",
      "-1\n",
      "2.0\n",
      "2\n",
      "1\n",
      "8\n",
      "4\n",
      "1.4142135623730951\n"
     ]
    }
   ],
   "source": [
    "# phython as Calculator\n",
    "print(2+3)\n",
    "print(2*3)\n",
    "print(2-3)\n",
    "print(4/2) # float divsion\n",
    "print(4//2) #interger division\n",
    "print(5%2) #module,remainder\n",
    "print(2**3) #exponent\n",
    "print(2**2)\n",
    "print(2**0.5) #underroot"
   ]
  },
  {
   "cell_type": "code",
   "execution_count": 2,
   "metadata": {},
   "outputs": [
    {
     "name": "stdout",
     "output_type": "stream",
     "text": [
      "1.4142\n"
     ]
    }
   ],
   "source": [
    "# above at last we can use round function\n",
    "print(round(2**0.5,4))  # rounded upto 4 digit"
   ]
  },
  {
   "cell_type": "code",
   "execution_count": 3,
   "metadata": {},
   "outputs": [
    {
     "name": "stdout",
     "output_type": "stream",
     "text": [
      "0\n"
     ]
    }
   ],
   "source": [
    "# precedency Rule\n",
    "# paranthese , Exponent , *,/,//,% , + -\n",
    "print(6-3*2)"
   ]
  },
  {
   "cell_type": "code",
   "execution_count": 15,
   "metadata": {},
   "outputs": [
    {
     "name": "stdout",
     "output_type": "stream",
     "text": [
      "WELCOME 🙏\n",
      "please select the operation to be done : \n",
      " 1 : Addition \n",
      " 2: Subtraction \n",
      " 3: Multiplication \n",
      " 4: Division \n",
      "Enter your choice for the operation to be Done\n",
      "1, 2, 3, 42\n",
      "enter your 1st number: 2\n",
      "enter your 2nd number: 2\n",
      "2.0 - 2.0 = 0.0\n",
      "want to do another calculation? (yes/no): no\n"
     ]
    }
   ],
   "source": [
    "print('WELCOME','\\U0001F64F')\n",
    "\n",
    "def addition(x,y):\n",
    "    return x+y\n",
    "def subtraction(x,y):\n",
    "    return x-y\n",
    "def multiplication(x,Y):\n",
    "    return x*y\n",
    "def division(x,y):\n",
    "    return x/y\n",
    "\n",
    "#print('WELCOME','\\U0001F64F')\n",
    "print(\"please select the operation to be done : \")\n",
    "print(\" 1 : Addition \\n 2: Subtraction \\n 3: Multiplication \\n 4: Division \")\n",
    "while True: #infinite loop\n",
    "    #print(\"Enter your choice for the operation to be Done\")\n",
    "    choice = input(\"1, 2, 3, 4\")\n",
    "    if choice in ('1','2','3','4'):\n",
    "        n1=float(input(\"enter your 1st number: \"))\n",
    "        n2=float(input(\"enter your 2nd number: \"))\n",
    "        \n",
    "        if choice=='1':\n",
    "            print(n1,\"+\",n2 ,\"=\" ,addition(n1,n2))\n",
    "        elif choice == '2':\n",
    "            print(n1,\"-\",n2,\"=\",subtraction(n1,n2))\n",
    "\n",
    "        elif choice == '3':\n",
    "            print(n1,\"*\",n2,\"=\",multiplication(n1,n2))\n",
    "        elif choice == '4':\n",
    "            print(n1,\"/\",n2,\"=\",division(n1,n2))\n",
    "        \n",
    "        next_calculation = input(\"want to do another calculation? (yes/no): \")\n",
    "        if next_calculation == \"no\":\n",
    "          break\n",
    "    else:\n",
    "        print(\"invalid\")\n",
    "        \n",
    "    "
   ]
  },
  {
   "cell_type": "markdown",
   "metadata": {},
   "source": []
  },
  {
   "cell_type": "code",
   "execution_count": null,
   "metadata": {},
   "outputs": [],
   "source": []
  }
 ],
 "metadata": {
  "kernelspec": {
   "display_name": "Python 3",
   "language": "python",
   "name": "python3"
  },
  "language_info": {
   "codemirror_mode": {
    "name": "ipython",
    "version": 3
   },
   "file_extension": ".py",
   "mimetype": "text/x-python",
   "name": "python",
   "nbconvert_exporter": "python",
   "pygments_lexer": "ipython3",
   "version": "3.8.3"
  }
 },
 "nbformat": 4,
 "nbformat_minor": 4
}
