{
 "cells": [
  {
   "cell_type": "code",
   "execution_count": 1,
   "metadata": {},
   "outputs": [
    {
     "name": "stdout",
     "output_type": "stream",
     "text": [
      "(1, 2, 'three', 4.0)\n",
      "<class 'tuple'>\n"
     ]
    }
   ],
   "source": [
    "#tuples are data structure\n",
    "# they are immutable\n",
    "\n",
    "t=(1,2,'three',4.0)\n",
    "print(t)\n",
    "print(type(t))\n"
   ]
  },
  {
   "cell_type": "code",
   "execution_count": 7,
   "metadata": {},
   "outputs": [
    {
     "name": "stdout",
     "output_type": "stream",
     "text": [
      "1\n",
      "2\n",
      "(1, 2, 3)\n",
      "(1, 2, 3, 'four', 'five', 6.0)\n",
      "(1, 3, 'five')\n",
      "6\n"
     ]
    }
   ],
   "source": [
    "t=(1,2,3,'four','five',6.0)\n",
    "#count method\n",
    "print(t.count(1))\n",
    "#index method\n",
    "print(t.index(3))\n",
    "#slicing\n",
    "print(t[:3])\n",
    "print(t[:])\n",
    "print(t[::2])\n",
    "#len function\n",
    "print(len(t))"
   ]
  },
  {
   "cell_type": "code",
   "execution_count": 8,
   "metadata": {},
   "outputs": [
    {
     "name": "stdout",
     "output_type": "stream",
     "text": [
      "1\n",
      "2\n",
      "3\n",
      "four\n",
      "five\n",
      "6.0\n"
     ]
    }
   ],
   "source": [
    "#for loop\n",
    "t=(1,2,3,'four','five',6.0)\n",
    "for i in t:\n",
    "    print(i)"
   ]
  },
  {
   "cell_type": "code",
   "execution_count": 10,
   "metadata": {},
   "outputs": [
    {
     "name": "stdout",
     "output_type": "stream",
     "text": [
      "<class 'int'>\n",
      "<class 'tuple'>\n"
     ]
    }
   ],
   "source": [
    "#tuple with one element\n",
    "t=(1)\n",
    "print(type(t)) #int\n",
    "# add comma so complier will understand\n",
    "t=(1,)\n",
    "print(type(t))"
   ]
  },
  {
   "cell_type": "code",
   "execution_count": 12,
   "metadata": {},
   "outputs": [
    {
     "name": "stdout",
     "output_type": "stream",
     "text": [
      "<class 'tuple'>\n"
     ]
    }
   ],
   "source": [
    "# if dont use parenthesis than bydefault it is tuple\n",
    "mixed=1,2,3.0,\"abc\"\n",
    "print(type(mixed))"
   ]
  },
  {
   "cell_type": "code",
   "execution_count": 24,
   "metadata": {},
   "outputs": [
    {
     "name": "stdout",
     "output_type": "stream",
     "text": [
      "1\n",
      "2\n",
      "3\n"
     ]
    }
   ],
   "source": [
    "#tuple unpacking\n",
    "mixed=(1,2,3)\n",
    "m1,m2,m3 = mixed\n",
    "print(m1)\n",
    "print(m2)\n",
    "print(m3)"
   ]
  },
  {
   "cell_type": "code",
   "execution_count": 25,
   "metadata": {},
   "outputs": [
    {
     "name": "stdout",
     "output_type": "stream",
     "text": [
      "0\n",
      "1\n",
      "2\n"
     ]
    }
   ],
   "source": [
    "t = (0, 1, 2)\n",
    "\n",
    "a, b, c = t\n",
    "\n",
    "print(a)\n",
    "print(b)\n",
    "print(c)\n"
   ]
  },
  {
   "cell_type": "code",
   "execution_count": 26,
   "metadata": {},
   "outputs": [
    {
     "name": "stdout",
     "output_type": "stream",
     "text": [
      "(1, 2, [3, 4, 5])\n",
      "(1, 2, [3, 4, 5, 6])\n"
     ]
    }
   ],
   "source": [
    "#list inside tuple\n",
    "a=(1,2,[3,4,5])\n",
    "print(a)\n",
    "a[2].append(6)\n",
    "print(a)"
   ]
  },
  {
   "cell_type": "code",
   "execution_count": 31,
   "metadata": {},
   "outputs": [
    {
     "name": "stdout",
     "output_type": "stream",
     "text": [
      "1\n",
      "10\n",
      "48\n"
     ]
    }
   ],
   "source": [
    "#min,max,sum function\n",
    "t=(1,3,5,7,8,2,3,9,10)\n",
    "print(min(t)) #min\n",
    "print(max(t)) #max\n",
    "print(sum(t)) #sum"
   ]
  },
  {
   "cell_type": "code",
   "execution_count": 32,
   "metadata": {},
   "outputs": [
    {
     "name": "stdout",
     "output_type": "stream",
     "text": [
      "(5, 6)\n"
     ]
    }
   ],
   "source": [
    "#function returning 2 values\n",
    "def func(int1,int2):\n",
    "    add=int1+int2\n",
    "    multiply=int1*int2\n",
    "    return add, multiply\n",
    "print(func(2,3))"
   ]
  },
  {
   "cell_type": "code",
   "execution_count": 37,
   "metadata": {},
   "outputs": [
    {
     "name": "stdout",
     "output_type": "stream",
     "text": [
      "(1, 2, 3, 4, 5, 6, 7, 8, 9, 10)\n",
      "[1, 2, 3, 4, 5, 6, 7, 8, 9, 10]\n",
      "(1, 2, 3, 4, 5, 6, 7, 8, 9, 10)\n"
     ]
    }
   ],
   "source": [
    "#range function\n",
    "t=tuple(range(1,11))\n",
    "print(t)\n",
    "\n",
    "#tuple to list\n",
    "num=list(t)\n",
    "print(num)\n",
    "\n",
    "#tuple to string\n",
    "num=str(t)\n",
    "print(num)"
   ]
  }
 ],
 "metadata": {
  "kernelspec": {
   "display_name": "Python 3",
   "language": "python",
   "name": "python3"
  },
  "language_info": {
   "codemirror_mode": {
    "name": "ipython",
    "version": 3
   },
   "file_extension": ".py",
   "mimetype": "text/x-python",
   "name": "python",
   "nbconvert_exporter": "python",
   "pygments_lexer": "ipython3",
   "version": "3.8.3"
  }
 },
 "nbformat": 4,
 "nbformat_minor": 4
}
