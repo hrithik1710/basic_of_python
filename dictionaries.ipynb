{
 "cells": [
  {
   "cell_type": "code",
   "execution_count": 1,
   "metadata": {},
   "outputs": [
    {
     "name": "stdout",
     "output_type": "stream",
     "text": [
      "{'name': 'harsh', 'age': 20}\n",
      "<class 'dict'>\n"
     ]
    }
   ],
   "source": [
    "#dictionaries---- they are unordered collection of data\n",
    "#syntax={key:value pair}\n",
    "user={'name':'harsh','age':20}\n",
    "print(user)\n",
    "print(type(user))"
   ]
  },
  {
   "cell_type": "code",
   "execution_count": 4,
   "metadata": {},
   "outputs": [
    {
     "name": "stdout",
     "output_type": "stream",
     "text": [
      "{'name': 'harsh', 'age': 20}\n",
      "harsh\n",
      "20\n"
     ]
    }
   ],
   "source": [
    "user=dict(name='harsh',age=20)\n",
    "print(user)\n",
    "print(user['name'])\n",
    "print(user['age'])"
   ]
  },
  {
   "cell_type": "code",
   "execution_count": 18,
   "metadata": {},
   "outputs": [
    {
     "name": "stdout",
     "output_type": "stream",
     "text": [
      "{'name': 'harsh', 'age': 21, 'number': [1, 2], 'word': ['a', 'b']}\n",
      "harsh\n"
     ]
    }
   ],
   "source": [
    "#we can store anything in it\n",
    "a={'name':'harsh','age':21,'number':[1,2],'word':['a','b']}\n",
    "print(a)\n",
    "print(a['name'])"
   ]
  },
  {
   "cell_type": "code",
   "execution_count": 19,
   "metadata": {},
   "outputs": [
    {
     "name": "stdout",
     "output_type": "stream",
     "text": [
      "{}\n",
      "{'name': 'kirat', 'age': 15}\n"
     ]
    }
   ],
   "source": [
    "#adding data to an empty dict.\n",
    "user={}\n",
    "print(user)\n",
    "user['name']='kirat'\n",
    "user['age']=15\n",
    "print(user)\n"
   ]
  },
  {
   "cell_type": "code",
   "execution_count": 20,
   "metadata": {},
   "outputs": [
    {
     "name": "stdout",
     "output_type": "stream",
     "text": [
      "present\n"
     ]
    }
   ],
   "source": [
    "#in keyword in dict.-------if 'keyname' in 'dict. name'\n",
    "a={'name':'harsh','age':21,'number':[1,2],'word':['a','b']}\n",
    "if 'number' in a:\n",
    "    print('present')\n",
    "else:\n",
    "    print('not present')"
   ]
  },
  {
   "cell_type": "code",
   "execution_count": 27,
   "metadata": {},
   "outputs": [
    {
     "name": "stdout",
     "output_type": "stream",
     "text": [
      "not present\n"
     ]
    }
   ],
   "source": [
    "#if i put value rather than key than error---\n",
    "a={'name':'harsh','age':21,'number':[1,2],'word':['a','b']}\n",
    "if 'harsh' in a:      \n",
    "    print('present')\n",
    "else:\n",
    "    print('not present')"
   ]
  },
  {
   "cell_type": "code",
   "execution_count": 28,
   "metadata": {},
   "outputs": [
    {
     "name": "stdout",
     "output_type": "stream",
     "text": [
      "present\n"
     ]
    }
   ],
   "source": [
    "#if i use .values() after ther dict name\n",
    "if 21 in a.values():   # return correct output\n",
    "    print('present')\n",
    "else:\n",
    "    print('not present')"
   ]
  },
  {
   "cell_type": "code",
   "execution_count": 29,
   "metadata": {},
   "outputs": [
    {
     "name": "stdout",
     "output_type": "stream",
     "text": [
      "name\n",
      "age\n",
      "number\n",
      "word\n"
     ]
    }
   ],
   "source": [
    "#for loop\n",
    "a={'name':'harsh','age':21,'number':[1,2],'word':['a','b']}\n",
    "for i in a:\n",
    "    print(i)    # return the key values\n"
   ]
  },
  {
   "cell_type": "code",
   "execution_count": 31,
   "metadata": {},
   "outputs": [
    {
     "name": "stdout",
     "output_type": "stream",
     "text": [
      "harsh\n",
      "21\n",
      "[1, 2]\n",
      "['a', 'b']\n"
     ]
    }
   ],
   "source": [
    "a={'name':'harsh','age':21,'number':[1,2],'word':['a','b']}\n",
    "for i in a.values():\n",
    "    print(i)     # return value pair"
   ]
  },
  {
   "cell_type": "code",
   "execution_count": 34,
   "metadata": {},
   "outputs": [
    {
     "name": "stdout",
     "output_type": "stream",
     "text": [
      "('name', 'kirat') ('age', 15) "
     ]
    }
   ],
   "source": [
    "a={'name':'harsh','age':21,'number':[1,2],'word':['a','b']}\n",
    "for i in user.items():\n",
    "    print(i,end=' ')"
   ]
  },
  {
   "cell_type": "code",
   "execution_count": 36,
   "metadata": {},
   "outputs": [
    {
     "name": "stdout",
     "output_type": "stream",
     "text": [
      "{'name': 'harsh', 'age': 21, 'number': [1, 2]}\n",
      "{'name': 'harsh', 'age': 21, 'number': [1, 2], 'word': ['a', 'b']}\n"
     ]
    }
   ],
   "source": [
    "# adding data to a dict.\n",
    "a={'name':'harsh',\n",
    "   'age':21,\n",
    "   'number':[1,2]\n",
    "  }\n",
    "print(a)\n",
    "a['word']=['a','b'] # it will bw added at last\n",
    "print(a)"
   ]
  },
  {
   "cell_type": "code",
   "execution_count": 38,
   "metadata": {},
   "outputs": [
    {
     "name": "stdout",
     "output_type": "stream",
     "text": [
      "{'name': 'harsh', 'age': 21}\n",
      "[1, 2]\n"
     ]
    }
   ],
   "source": [
    "#delete data to the dict.\n",
    "#pop method\n",
    "a={'name':'harsh',\n",
    "   'age':21,\n",
    "   'number':[1,2]\n",
    "  }\n",
    "popped_item=a.pop('number')   # but it will return a value we can store it on another variable\n",
    "print(a)\n",
    "print(popped_item)"
   ]
  },
  {
   "cell_type": "code",
   "execution_count": 42,
   "metadata": {},
   "outputs": [
    {
     "name": "stdout",
     "output_type": "stream",
     "text": [
      "{'name': 'harsh', 'age': 20}\n"
     ]
    }
   ],
   "source": [
    "#copy method\n",
    "user={'name':'harsh','age':20}\n",
    "c=user.copy()\n",
    "print(c)"
   ]
  },
  {
   "cell_type": "code",
   "execution_count": 41,
   "metadata": {},
   "outputs": [
    {
     "name": "stdout",
     "output_type": "stream",
     "text": [
      "{'name': 'harsh jain', 'age': 20, 'state': 'MP'}\n",
      "{}\n"
     ]
    }
   ],
   "source": [
    "#update method\n",
    "user={'name':'harsh','age':20}\n",
    "more_info={'state':'MP','name':'harsh jain'}   #name got replaced\n",
    "user.update(more_info)\n",
    "print(user)\n",
    "\n",
    "#clear method\n",
    "user.clear()\n",
    "print(user)"
   ]
  },
  {
   "cell_type": "code",
   "execution_count": 44,
   "metadata": {},
   "outputs": [
    {
     "name": "stdout",
     "output_type": "stream",
     "text": [
      "{1: 1, 2: 8, 3: 27, 4: 64, 5: 125}\n"
     ]
    }
   ],
   "source": [
    "# program returning cube\n",
    "def number(n):\n",
    "    d={}  #empty dict.\n",
    "    for i in n:   #loop\n",
    "        d[i]=i**3  #add item to dict\n",
    "    return d\n",
    "print(number(tuple(range(1,6))))"
   ]
  },
  {
   "cell_type": "code",
   "execution_count": 48,
   "metadata": {},
   "outputs": [
    {
     "name": "stdout",
     "output_type": "stream",
     "text": [
      "{'h': 2, 'a': 1, 'r': 1, 's': 1}\n"
     ]
    }
   ],
   "source": [
    "#word counter\n",
    "def word(a):\n",
    "    d={}\n",
    "    for i in a:\n",
    "        d[i]=a.count(i)\n",
    "    return d\n",
    "print(word('harsh'))"
   ]
  },
  {
   "cell_type": "code",
   "execution_count": 49,
   "metadata": {},
   "outputs": [
    {
     "name": "stdout",
     "output_type": "stream",
     "text": [
      "enter name and age : kirat,20\n",
      "enter fav movie : spiderman\n",
      "enter fav songlalalala\n",
      "{'name': 'kirat', 'age': '20', 'fav_movie': 'spiderman', 'fav_song': 'lalalala'}\n"
     ]
    }
   ],
   "source": [
    "#asking data and add to the dict,\n",
    "name,age=input(\"enter name and age : \").split(',')\n",
    "fav_movie=input(\"enter fav movie : \")\n",
    "fav_song=input('enter fav song')\n",
    "d={}\n",
    "d['name']=name\n",
    "d['age']=age\n",
    "d['fav_movie']=fav_movie\n",
    "d['fav_song']=fav_song\n",
    "print(d)"
   ]
  }
 ],
 "metadata": {
  "kernelspec": {
   "display_name": "Python 3",
   "language": "python",
   "name": "python3"
  },
  "language_info": {
   "codemirror_mode": {
    "name": "ipython",
    "version": 3
   },
   "file_extension": ".py",
   "mimetype": "text/x-python",
   "name": "python",
   "nbconvert_exporter": "python",
   "pygments_lexer": "ipython3",
   "version": "3.8.3"
  }
 },
 "nbformat": 4,
 "nbformat_minor": 4
}
