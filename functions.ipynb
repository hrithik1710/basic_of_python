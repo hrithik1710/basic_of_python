{
 "cells": [
  {
   "cell_type": "code",
   "execution_count": 2,
   "metadata": {},
   "outputs": [
    {
     "name": "stdout",
     "output_type": "stream",
     "text": [
      "enter 1st number1\n",
      "enter 2nd number2\n",
      "3\n"
     ]
    }
   ],
   "source": [
    "# functions:\n",
    "def add(a,b):\n",
    "    return a+b\n",
    "a=int(input(\"enter 1st number\"))\n",
    "b=int(input(\"enter 2nd number\"))\n",
    "print(add(a,b))"
   ]
  },
  {
   "cell_type": "code",
   "execution_count": 3,
   "metadata": {},
   "outputs": [
    {
     "name": "stdout",
     "output_type": "stream",
     "text": [
      "k\n"
     ]
    }
   ],
   "source": [
    "#last charcter of the string\n",
    "def last_char(a):\n",
    "    return a[-1]\n",
    "print(last_char(\"hritik\"))"
   ]
  },
  {
   "cell_type": "code",
   "execution_count": 6,
   "metadata": {},
   "outputs": [
    {
     "name": "stdout",
     "output_type": "stream",
     "text": [
      "2 is a even number\n",
      "None\n"
     ]
    }
   ],
   "source": [
    "#odd even\n",
    "def odd_even(a):\n",
    "    if a%2==0:\n",
    "        print(\"{} is a even number\".format(a))\n",
    "    else:\n",
    "        print(\"{} is a odd number\".format(a))\n",
    "print(odd_even(2))\n",
    "        \n",
    "    "
   ]
  },
  {
   "cell_type": "code",
   "execution_count": 7,
   "metadata": {},
   "outputs": [
    {
     "name": "stdout",
     "output_type": "stream",
     "text": [
      "even\n"
     ]
    }
   ],
   "source": [
    "def odd_even(a):\n",
    "    if a%2==0:\n",
    "        return \"even\"\n",
    "    else:\n",
    "        return \"odd\"\n",
    "print(odd_even(2))\n",
    "        \n",
    "    "
   ]
  },
  {
   "cell_type": "code",
   "execution_count": 8,
   "metadata": {},
   "outputs": [
    {
     "name": "stdout",
     "output_type": "stream",
     "text": [
      "enter a number1\n",
      "enter a number2\n",
      "2\n"
     ]
    }
   ],
   "source": [
    "#greater number between two number\n",
    "def gretest(a,b):\n",
    "    if a>b:\n",
    "        return a\n",
    "    else:\n",
    "        return b\n",
    "a=int(input(\"enter a number\"))\n",
    "b=int(input(\"enter a number\"))\n",
    "print(gretest(a,b))"
   ]
  },
  {
   "cell_type": "code",
   "execution_count": 9,
   "metadata": {},
   "outputs": [
    {
     "name": "stdout",
     "output_type": "stream",
     "text": [
      "enter a number1\n",
      "enter a number2\n",
      "enter a number3\n",
      "3\n"
     ]
    }
   ],
   "source": [
    "#greater between 3 number\n",
    "def gretest(a,b,c):\n",
    "    if a>b and a>c:\n",
    "        return a\n",
    "    else:\n",
    "        if b>a and b>c:\n",
    "            return b\n",
    "        return c\n",
    "a=int(input(\"enter a number\"))\n",
    "b=int(input(\"enter a number\"))\n",
    "c=int(input(\"enter a number\"))\n",
    "print(gretest(a,b,c))\n"
   ]
  },
  {
   "cell_type": "code",
   "execution_count": 10,
   "metadata": {},
   "outputs": [
    {
     "name": "stdout",
     "output_type": "stream",
     "text": [
      "20\n"
     ]
    }
   ],
   "source": [
    "#function inside function\n",
    "def greater(a,b):\n",
    "    if a>b:\n",
    "        return a\n",
    "    return b\n",
    "def greatest(a,b,c):\n",
    "    bigger=greater(a,b)\n",
    "    return greater(bigger,c)\n",
    "print(greatest(10,20,5))"
   ]
  },
  {
   "cell_type": "code",
   "execution_count": 11,
   "metadata": {},
   "outputs": [
    {
     "name": "stdout",
     "output_type": "stream",
     "text": [
      "enter a string : naman\n",
      "True\n"
     ]
    }
   ],
   "source": [
    "#palindrone\n",
    "def palindrone(s):\n",
    "    if s[::]==s[::-1]:\n",
    "        return True\n",
    "    return False\n",
    "s=input(\"enter a string : \")\n",
    "print(palindrone(s))"
   ]
  }
 ],
 "metadata": {
  "kernelspec": {
   "display_name": "Python 3",
   "language": "python",
   "name": "python3"
  },
  "language_info": {
   "codemirror_mode": {
    "name": "ipython",
    "version": 3
   },
   "file_extension": ".py",
   "mimetype": "text/x-python",
   "name": "python",
   "nbconvert_exporter": "python",
   "pygments_lexer": "ipython3",
   "version": "3.8.3"
  }
 },
 "nbformat": 4,
 "nbformat_minor": 4
}
