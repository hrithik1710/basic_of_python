{
 "cells": [
  {
   "cell_type": "code",
   "execution_count": 1,
   "metadata": {},
   "outputs": [
    {
     "name": "stdout",
     "output_type": "stream",
     "text": [
      "hello world\n"
     ]
    }
   ],
   "source": [
    "# print \n",
    "print(\"hello world\") "
   ]
  },
  {
   "cell_type": "code",
   "execution_count": 2,
   "metadata": {},
   "outputs": [
    {
     "name": "stdout",
     "output_type": "stream",
     "text": [
      "I'm Hrithik\n"
     ]
    }
   ],
   "source": [
    "# escape sequence for single quote\n",
    "print('I\\'m Hrithik')"
   ]
  },
  {
   "cell_type": "code",
   "execution_count": 3,
   "metadata": {},
   "outputs": [
    {
     "name": "stdout",
     "output_type": "stream",
     "text": [
      "Hello \"World\"\n"
     ]
    }
   ],
   "source": [
    "# Hello \"World\"\n",
    "print(\"Hello \\\"World\\\"\")"
   ]
  },
  {
   "cell_type": "code",
   "execution_count": 4,
   "metadata": {},
   "outputs": [
    {
     "name": "stdout",
     "output_type": "stream",
     "text": [
      "This is blackslash \\\n"
     ]
    }
   ],
   "source": [
    "#\\ backslash\n",
    "print(\"This is backslash \\\\\")"
   ]
  },
  {
   "cell_type": "code",
   "execution_count": 6,
   "metadata": {},
   "outputs": [
    {
     "name": "stdout",
     "output_type": "stream",
     "text": [
      "line A \n",
      "line B\n"
     ]
    }
   ],
   "source": [
    "#new line \n",
    "print(\"line A \\nline B\")"
   ]
  },
  {
   "cell_type": "code",
   "execution_count": 8,
   "metadata": {},
   "outputs": [
    {
     "name": "stdout",
     "output_type": "stream",
     "text": [
      "Name \t Hrithik\n"
     ]
    }
   ],
   "source": [
    "#GAP /t\n",
    "print(\"Name \\t Hrithik\")"
   ]
  },
  {
   "cell_type": "code",
   "execution_count": 10,
   "metadata": {},
   "outputs": [
    {
     "name": "stdout",
     "output_type": "stream",
     "text": [
      "helll\bo\n"
     ]
    }
   ],
   "source": [
    "#backspace one l is cuted\n",
    "print(\"helll\\bo\")"
   ]
  },
  {
   "cell_type": "code",
   "execution_count": 11,
   "metadata": {},
   "outputs": [
    {
     "name": "stdout",
     "output_type": "stream",
     "text": [
      "This is \\\\ double backspace\n"
     ]
    }
   ],
   "source": [
    "# \\\\\n",
    "print(\"This is \\\\\\\\ double backspace\")"
   ]
  },
  {
   "cell_type": "code",
   "execution_count": 12,
   "metadata": {},
   "outputs": [
    {
     "name": "stdout",
     "output_type": "stream",
     "text": [
      "/\\/\\/\\/\\/\\\n"
     ]
    }
   ],
   "source": [
    "#mountain\n",
    "print(\"/\\\\/\\\\/\\\\/\\\\/\\\\\")"
   ]
  },
  {
   "cell_type": "code",
   "execution_count": 13,
   "metadata": {},
   "outputs": [
    {
     "name": "stdout",
     "output_type": "stream",
     "text": [
      "this \t awesome\n"
     ]
    }
   ],
   "source": [
    "#tap \\t\n",
    "print(\"this \\t awesome\")"
   ]
  },
  {
   "cell_type": "code",
   "execution_count": 14,
   "metadata": {},
   "outputs": [
    {
     "name": "stdout",
     "output_type": "stream",
     "text": [
      "\\\" \\n  \\t  \\' \n"
     ]
    }
   ],
   "source": [
    "#\\\" \\n \\t \\'\n",
    "print(\"\\\\\\\" \\\\n  \\\\t  \\\\\\' \")"
   ]
  },
  {
   "cell_type": "code",
   "execution_count": 15,
   "metadata": {},
   "outputs": [
    {
     "name": "stdout",
     "output_type": "stream",
     "text": [
      "tis is \\t\n"
     ]
    }
   ],
   "source": [
    "# Raw string concept\n",
    "# whatever we write in double or single quote it will printed as it is..\n",
    "\n",
    "print(r\"this is \\t\")"
   ]
  },
  {
   "cell_type": "code",
   "execution_count": 19,
   "metadata": {},
   "outputs": [
    {
     "name": "stdout",
     "output_type": "stream",
     "text": [
      " line A \\n line B \n"
     ]
    }
   ],
   "source": [
    "print(r\" line A \\n line B \")"
   ]
  },
  {
   "cell_type": "code",
   "execution_count": 22,
   "metadata": {},
   "outputs": [
    {
     "name": "stdout",
     "output_type": "stream",
     "text": [
      " /\\/\\/\\/\\/\\ \n"
     ]
    }
   ],
   "source": [
    "print(r\" /\\/\\/\\/\\/\\ \")"
   ]
  },
  {
   "cell_type": "code",
   "execution_count": 24,
   "metadata": {},
   "outputs": [
    {
     "name": "stdout",
     "output_type": "stream",
     "text": [
      "😂\n"
     ]
    }
   ],
   "source": [
    "# emoji #U+1F602\n",
    "print(\"\\U0001F602\")"
   ]
  },
  {
   "cell_type": "code",
   "execution_count": null,
   "metadata": {},
   "outputs": [],
   "source": []
  }
 ],
 "metadata": {
  "kernelspec": {
   "display_name": "Python 3",
   "language": "python",
   "name": "python3"
  },
  "language_info": {
   "codemirror_mode": {
    "name": "ipython",
    "version": 3
   },
   "file_extension": ".py",
   "mimetype": "text/x-python",
   "name": "python",
   "nbconvert_exporter": "python",
   "pygments_lexer": "ipython3",
   "version": "3.8.3"
  }
 },
 "nbformat": 4,
 "nbformat_minor": 4
}
